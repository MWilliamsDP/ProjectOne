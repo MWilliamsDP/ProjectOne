{
 "cells": [
  {
   "cell_type": "markdown",
   "metadata": {},
   "source": [
    "# Reading in CSV"
   ]
  },
  {
   "cell_type": "code",
   "execution_count": 1,
   "metadata": {},
   "outputs": [
    {
     "data": {
      "text/html": [
       "<div>\n",
       "<style scoped>\n",
       "    .dataframe tbody tr th:only-of-type {\n",
       "        vertical-align: middle;\n",
       "    }\n",
       "\n",
       "    .dataframe tbody tr th {\n",
       "        vertical-align: top;\n",
       "    }\n",
       "\n",
       "    .dataframe thead th {\n",
       "        text-align: right;\n",
       "    }\n",
       "</style>\n",
       "<table border=\"1\" class=\"dataframe\">\n",
       "  <thead>\n",
       "    <tr style=\"text-align: right;\">\n",
       "      <th></th>\n",
       "      <th>id</th>\n",
       "      <th>name</th>\n",
       "      <th>host_id</th>\n",
       "      <th>host_name</th>\n",
       "      <th>neighbourhood_group</th>\n",
       "      <th>neighbourhood</th>\n",
       "      <th>latitude</th>\n",
       "      <th>longitude</th>\n",
       "      <th>room_type</th>\n",
       "      <th>price</th>\n",
       "      <th>minimum_nights</th>\n",
       "      <th>number_of_reviews</th>\n",
       "      <th>last_review</th>\n",
       "      <th>reviews_per_month</th>\n",
       "      <th>calculated_host_listings_count</th>\n",
       "      <th>availability_365</th>\n",
       "    </tr>\n",
       "  </thead>\n",
       "  <tbody>\n",
       "    <tr>\n",
       "      <th>0</th>\n",
       "      <td>2595</td>\n",
       "      <td>Skylit Midtown Castle</td>\n",
       "      <td>2845</td>\n",
       "      <td>Jennifer</td>\n",
       "      <td>Manhattan</td>\n",
       "      <td>Midtown</td>\n",
       "      <td>40.75356</td>\n",
       "      <td>-73.98559</td>\n",
       "      <td>Entire home/apt</td>\n",
       "      <td>150</td>\n",
       "      <td>30</td>\n",
       "      <td>48</td>\n",
       "      <td>11/4/2019</td>\n",
       "      <td>0.34</td>\n",
       "      <td>3</td>\n",
       "      <td>308</td>\n",
       "    </tr>\n",
       "    <tr>\n",
       "      <th>1</th>\n",
       "      <td>3831</td>\n",
       "      <td>Whole flr w/private bdrm, bath &amp; kitchen(pls r...</td>\n",
       "      <td>4869</td>\n",
       "      <td>LisaRoxanne</td>\n",
       "      <td>Brooklyn</td>\n",
       "      <td>Bedford-Stuyvesant</td>\n",
       "      <td>40.68494</td>\n",
       "      <td>-73.95765</td>\n",
       "      <td>Entire home/apt</td>\n",
       "      <td>79</td>\n",
       "      <td>1</td>\n",
       "      <td>403</td>\n",
       "      <td>5/4/2021</td>\n",
       "      <td>5.16</td>\n",
       "      <td>1</td>\n",
       "      <td>208</td>\n",
       "    </tr>\n",
       "    <tr>\n",
       "      <th>2</th>\n",
       "      <td>5121</td>\n",
       "      <td>BlissArtsSpace!</td>\n",
       "      <td>7356</td>\n",
       "      <td>Garon</td>\n",
       "      <td>Brooklyn</td>\n",
       "      <td>Bedford-Stuyvesant</td>\n",
       "      <td>40.68535</td>\n",
       "      <td>-73.95512</td>\n",
       "      <td>Private room</td>\n",
       "      <td>60</td>\n",
       "      <td>30</td>\n",
       "      <td>50</td>\n",
       "      <td>6/5/2016</td>\n",
       "      <td>0.56</td>\n",
       "      <td>1</td>\n",
       "      <td>365</td>\n",
       "    </tr>\n",
       "    <tr>\n",
       "      <th>3</th>\n",
       "      <td>5136</td>\n",
       "      <td>Spacious Brooklyn Duplex, Patio + Garden</td>\n",
       "      <td>7378</td>\n",
       "      <td>Rebecca</td>\n",
       "      <td>Brooklyn</td>\n",
       "      <td>Sunset Park</td>\n",
       "      <td>40.66265</td>\n",
       "      <td>-73.99454</td>\n",
       "      <td>Entire home/apt</td>\n",
       "      <td>175</td>\n",
       "      <td>21</td>\n",
       "      <td>1</td>\n",
       "      <td>1/2/2014</td>\n",
       "      <td>0.01</td>\n",
       "      <td>1</td>\n",
       "      <td>134</td>\n",
       "    </tr>\n",
       "    <tr>\n",
       "      <th>4</th>\n",
       "      <td>5178</td>\n",
       "      <td>Large Furnished Room Near B'way</td>\n",
       "      <td>8967</td>\n",
       "      <td>Shunichi</td>\n",
       "      <td>Manhattan</td>\n",
       "      <td>Midtown</td>\n",
       "      <td>40.76457</td>\n",
       "      <td>-73.98317</td>\n",
       "      <td>Private room</td>\n",
       "      <td>61</td>\n",
       "      <td>2</td>\n",
       "      <td>474</td>\n",
       "      <td>9/25/2020</td>\n",
       "      <td>3.61</td>\n",
       "      <td>1</td>\n",
       "      <td>246</td>\n",
       "    </tr>\n",
       "  </tbody>\n",
       "</table>\n",
       "</div>"
      ],
      "text/plain": [
       "     id                                               name  host_id  \\\n",
       "0  2595                              Skylit Midtown Castle     2845   \n",
       "1  3831  Whole flr w/private bdrm, bath & kitchen(pls r...     4869   \n",
       "2  5121                                    BlissArtsSpace!     7356   \n",
       "3  5136           Spacious Brooklyn Duplex, Patio + Garden     7378   \n",
       "4  5178                   Large Furnished Room Near B'way　     8967   \n",
       "\n",
       "     host_name neighbourhood_group       neighbourhood  latitude  longitude  \\\n",
       "0     Jennifer           Manhattan             Midtown  40.75356  -73.98559   \n",
       "1  LisaRoxanne            Brooklyn  Bedford-Stuyvesant  40.68494  -73.95765   \n",
       "2        Garon            Brooklyn  Bedford-Stuyvesant  40.68535  -73.95512   \n",
       "3      Rebecca            Brooklyn         Sunset Park  40.66265  -73.99454   \n",
       "4     Shunichi           Manhattan             Midtown  40.76457  -73.98317   \n",
       "\n",
       "         room_type  price  minimum_nights  number_of_reviews last_review  \\\n",
       "0  Entire home/apt    150              30                 48   11/4/2019   \n",
       "1  Entire home/apt     79               1                403    5/4/2021   \n",
       "2     Private room     60              30                 50    6/5/2016   \n",
       "3  Entire home/apt    175              21                  1    1/2/2014   \n",
       "4     Private room     61               2                474   9/25/2020   \n",
       "\n",
       "   reviews_per_month  calculated_host_listings_count  availability_365  \n",
       "0               0.34                               3               308  \n",
       "1               5.16                               1               208  \n",
       "2               0.56                               1               365  \n",
       "3               0.01                               1               134  \n",
       "4               3.61                               1               246  "
      ]
     },
     "execution_count": 1,
     "metadata": {},
     "output_type": "execute_result"
    }
   ],
   "source": [
    "# Dependencies and Setup\n",
    "import pandas as pd\n",
    "import matplotlib.pyplot as plt\n",
    "import numpy as np\n",
    "import scipy.stats as st\n",
    "\n",
    "listings_file = \"listings.csv\"\n",
    "# Read in dataframe\n",
    "listings_df = pd.read_csv(listings_file)\n",
    "listings_df.head()"
   ]
  },
  {
   "cell_type": "markdown",
   "metadata": {},
   "source": [
    "Certain air bnbs in the csv file have prices listed as 0 \n",
    "This makes no sense so we are removing these values"
   ]
  },
  {
   "cell_type": "code",
   "execution_count": 2,
   "metadata": {},
   "outputs": [],
   "source": [
    "listings_df = listings_df.loc[listings_df[\"price\"]!=0]"
   ]
  },
  {
   "cell_type": "markdown",
   "metadata": {},
   "source": [
    "# Pie Chart: Number of Borough Listings"
   ]
  },
  {
   "cell_type": "code",
   "execution_count": 3,
   "metadata": {},
   "outputs": [],
   "source": [
    "# Here I want to get a list of the group neighbourhoods\n",
    "large_neighborhoods_list = listings_df[\"neighbourhood_group\"].unique()\n",
    "total_listings = len(listings_df)"
   ]
  },
  {
   "cell_type": "code",
   "execution_count": 4,
   "metadata": {},
   "outputs": [
    {
     "data": {
      "text/html": [
       "<div>\n",
       "<style scoped>\n",
       "    .dataframe tbody tr th:only-of-type {\n",
       "        vertical-align: middle;\n",
       "    }\n",
       "\n",
       "    .dataframe tbody tr th {\n",
       "        vertical-align: top;\n",
       "    }\n",
       "\n",
       "    .dataframe thead th {\n",
       "        text-align: right;\n",
       "    }\n",
       "</style>\n",
       "<table border=\"1\" class=\"dataframe\">\n",
       "  <thead>\n",
       "    <tr style=\"text-align: right;\">\n",
       "      <th></th>\n",
       "      <th>Total Listings</th>\n",
       "      <th>Percentage of listings</th>\n",
       "    </tr>\n",
       "  </thead>\n",
       "  <tbody>\n",
       "    <tr>\n",
       "      <th>Manhattan</th>\n",
       "      <td>15872</td>\n",
       "      <td>43.85%</td>\n",
       "    </tr>\n",
       "    <tr>\n",
       "      <th>Brooklyn</th>\n",
       "      <td>14234</td>\n",
       "      <td>39.33%</td>\n",
       "    </tr>\n",
       "    <tr>\n",
       "      <th>Queens</th>\n",
       "      <td>4785</td>\n",
       "      <td>13.22%</td>\n",
       "    </tr>\n",
       "    <tr>\n",
       "      <th>Bronx</th>\n",
       "      <td>1002</td>\n",
       "      <td>2.77%</td>\n",
       "    </tr>\n",
       "    <tr>\n",
       "      <th>Staten Island</th>\n",
       "      <td>299</td>\n",
       "      <td>0.83%</td>\n",
       "    </tr>\n",
       "  </tbody>\n",
       "</table>\n",
       "</div>"
      ],
      "text/plain": [
       "               Total Listings Percentage of listings\n",
       "Manhattan               15872                 43.85%\n",
       "Brooklyn                14234                 39.33%\n",
       "Queens                   4785                 13.22%\n",
       "Bronx                    1002                  2.77%\n",
       "Staten Island             299                  0.83%"
      ]
     },
     "execution_count": 4,
     "metadata": {},
     "output_type": "execute_result"
    }
   ],
   "source": [
    "# Now that I have a list of the group neighbourhoods I am going to find the percentage of listings for each\n",
    "neighborhood_counts = listings_df[\"neighbourhood_group\"].value_counts()\n",
    "neighborhood_df = pd.DataFrame({\"Total Listings\": neighborhood_counts,\n",
    "                                \"Percentage of listings\": ((neighborhood_counts/total_listings)*100).map(\"{:.2f}%\".format)})\n",
    "neighborhood_df"
   ]
  },
  {
   "cell_type": "code",
   "execution_count": 5,
   "metadata": {},
   "outputs": [],
   "source": [
    "# Extract neighborhood names and Total Listing numbers per borough from dataframe\n",
    "group_names = neighborhood_df.index\n",
    "total_n_listings =[]\n",
    "for x in range(len(neighborhood_df)):\n",
    "    total_n_listings.append(neighborhood_df[\"Total Listings\"][x])"
   ]
  },
  {
   "cell_type": "code",
   "execution_count": 6,
   "metadata": {},
   "outputs": [
    {
     "data": {
      "image/png": "[encoded data removed]",
      "text/plain": [
       "<Figure size 432x288 with 1 Axes>"
      ]
     },
     "metadata": {},
     "output_type": "display_data"
    }
   ],
   "source": [
    "# Create a pie chart for the listing percentages per neighborhood \n",
    "labels = group_names\n",
    "explode = (0, 0, 0, 0.25, 0)\n",
    "\n",
    "colors = [\"orange\", \"violet\", \"lightgreen\", \"salmon\",\"lightskyblue\"]\n",
    "plt.pie(total_n_listings, labels=labels, explode=explode, autopct=\"%1.1f%%\", shadow=True, startangle=295, colors=colors, radius =1.25, textprops={'fontsize': 11}, pctdistance=0.6)\n",
    "plt.title(\"Percentage of Listings by Borough\",fontsize=14, fontstyle=\"oblique\")\n",
    "plt.savefig(\"Graphs/Borough_pie_chart.png\")\n",
    "\n",
    "plt.show()"
   ]
  },
  {
   "cell_type": "markdown",
   "metadata": {},
   "source": [
    "# Bar Chart: Borough Avg Listing Price"
   ]
  },
  {
   "cell_type": "code",
   "execution_count": 7,
   "metadata": {},
   "outputs": [
    {
     "data": {
      "image/png": "[encoded data removed]",
      "text/plain": [
       "<Figure size 432x288 with 1 Axes>"
      ]
     },
     "metadata": {
      "needs_background": "light"
     },
     "output_type": "display_data"
    }
   ],
   "source": [
    "# Here I want to find the avg listing price per borough\n",
    "borough_group_df = listings_df.groupby([\"neighbourhood_group\"])\n",
    "avg_borough_price = borough_group_df[\"price\"].mean()\n",
    "borough_names = avg_borough_price.index\n",
    "\n",
    "total_b_listings = []\n",
    "for x in range(len(borough_names)):\n",
    "    total_b_listings.append(avg_borough_price[x])\n",
    "    \n",
    "x_axis = np.arange(len(borough_names))\n",
    "\n",
    "plt.bar(x_axis, avg_borough_price, color='purple', alpha=0.8, align=\"center\")\n",
    "plt.xticks(x_axis, borough_names, rotation='0')\n",
    "\n",
    "plt.title(\"Average Listing Price by Borough\", fontsize=16)\n",
    "plt.ylabel(\"Avg Listing Price ($)\")\n",
    "plt.grid(axis='y', alpha = 0.3)\n",
    "\n",
    "plt.savefig(\"Graphs/Boroughs_avgprice_bar_chart.png\")\n",
    "\n",
    "plt.show()"
   ]
  },
  {
   "cell_type": "markdown",
   "metadata": {},
   "source": [
    "# Scatterplot: Neighborhood Avg Price vs Number of Listings"
   ]
  },
  {
   "cell_type": "code",
   "execution_count": 8,
   "metadata": {},
   "outputs": [
    {
     "name": "stdout",
     "output_type": "stream",
     "text": [
      "There are 221 neighborhoods in the csv file\n"
     ]
    }
   ],
   "source": [
    "# Find the number of neighborhoods in the dataframe\n",
    "neighborhoods_list = listings_df[\"neighbourhood\"].unique()\n",
    "print(f\"There are {len(neighborhoods_list)} neighborhoods in the csv file\")"
   ]
  },
  {
   "cell_type": "code",
   "execution_count": 9,
   "metadata": {},
   "outputs": [],
   "source": [
    "# Calculate the average listing price per neighborhood and the number of listings per neighborhood\n",
    "neighborhood_grouped_df = listings_df.groupby([\"neighbourhood\"])\n",
    "avg_neigh_price = neighborhood_grouped_df[\"price\"].mean()\n",
    "count_list_neigh = neighborhood_grouped_df[\"neighbourhood\"].count()\n",
    "\n",
    "# Create a dataframe to store the avg price and number of listings per neighborhood\n",
    "neighborhoods_df = pd.DataFrame(avg_neigh_price)\n",
    "neighborhoods_df[\"Num of Listings\"] = count_list_neigh"
   ]
  },
  {
   "cell_type": "code",
   "execution_count": 10,
   "metadata": {},
   "outputs": [
    {
     "name": "stdout",
     "output_type": "stream",
     "text": [
      "The correlation coefficient is 0.1\n"
     ]
    },
    {
     "data": {
      "image/png": "[encoded data removed]",
      "text/plain": [
       "<Figure size 432x288 with 1 Axes>"
      ]
     },
     "metadata": {
      "needs_background": "light"
     },
     "output_type": "display_data"
    }
   ],
   "source": [
    "plt.scatter(neighborhoods_df[\"price\"], neighborhoods_df[\"Num of Listings\"], marker=\"o\", facecolors=\"blue\", edgecolors=\"black\", alpha =0.7)\n",
    "\n",
    "plt.title(\"NYC Neighborhoods: Avg Price vs Num Listings\", fontsize=13)\n",
    "plt.ylabel(\"Number of Listings\")\n",
    "plt.xlabel(\"Avg Listing Price ($)\")\n",
    "plt.xlim(-25, 500)\n",
    "plt.ylim(-50, 1000)\n",
    "plt.grid(True, alpha = 0.3)\n",
    "\n",
    "correlation = st.pearsonr(neighborhoods_df[\"price\"], neighborhoods_df[\"Num of Listings\"])\n",
    "print(f\"The correlation coefficient is {round(correlation[0],2)}\")\n",
    "\n",
    "plt.savefig(\"Graphs/Neighborhoods_AvgPrice_vs_NumListings_scatter.png\")\n",
    "\n",
    "plt.show()"
   ]
  },
  {
   "cell_type": "code",
   "execution_count": null,
   "metadata": {},
   "outputs": [],
   "source": []
  }
 ],
 "metadata": {
  "anaconda-cloud": {},
  "kernel_info": {
   "name": "python3"
  },
  "kernelspec": {
   "display_name": "Python 3",
   "language": "python",
   "name": "python3"
  },
  "language_info": {
   "codemirror_mode": {
    "name": "ipython",
    "version": 3
   },
   "file_extension": ".py",
   "mimetype": "text/x-python",
   "name": "python",
   "nbconvert_exporter": "python",
   "pygments_lexer": "ipython3",
   "version": "3.8.8"
  },
  "latex_envs": {
   "LaTeX_envs_menu_present": true,
   "autoclose": false,
   "autocomplete": true,
   "bibliofile": "biblio.bib",
   "cite_by": "apalike",
   "current_citInitial": 1,
   "eqLabelWithNumbers": true,
   "eqNumInitial": 1,
   "hotkeys": {
    "equation": "Ctrl-E",
    "itemize": "Ctrl-I"
   },
   "labels_anchors": false,
   "latex_user_defs": false,
   "report_style_numbering": false,
   "user_envs_cfg": false
  },
  "nteract": {
   "version": "0.2.0"
  }
 },
 "nbformat": 4,
 "nbformat_minor": 4
}
