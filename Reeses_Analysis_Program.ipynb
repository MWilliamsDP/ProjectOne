{
 "cells": [
  {
   "cell_type": "code",
   "execution_count": 183,
   "id": "fe6258aa-046a-49b4-b51b-da6b8c749ee8",
   "metadata": {},
   "outputs": [],
   "source": [
    "#Import all needed dependencies...\n",
    "import json\n",
    "import requests\n",
    "import pandas as pd\n",
    "from pandas import json_normalize\n",
    "from api_key import gkey\n",
    "import random\n",
    "import matplotlib.pyplot as plt\n",
    "import numpy as np\n",
    "import scipy.stats as st"
   ]
  },
  {
   "cell_type": "code",
   "execution_count": 184,
   "id": "9a56050a-c58c-4af3-b6fa-0b9d9d9abc4d",
   "metadata": {
    "tags": []
   },
   "outputs": [
    {
     "data": {
      "text/html": [
       "<div>\n",
       "<style scoped>\n",
       "    .dataframe tbody tr th:only-of-type {\n",
       "        vertical-align: middle;\n",
       "    }\n",
       "\n",
       "    .dataframe tbody tr th {\n",
       "        vertical-align: top;\n",
       "    }\n",
       "\n",
       "    .dataframe thead th {\n",
       "        text-align: right;\n",
       "    }\n",
       "</style>\n",
       "<table border=\"1\" class=\"dataframe\">\n",
       "  <thead>\n",
       "    <tr style=\"text-align: right;\">\n",
       "      <th></th>\n",
       "      <th>latitude</th>\n",
       "      <th>longitude</th>\n",
       "      <th>price</th>\n",
       "    </tr>\n",
       "  </thead>\n",
       "  <tbody>\n",
       "    <tr>\n",
       "      <th>0</th>\n",
       "      <td>40.64749</td>\n",
       "      <td>-73.97237</td>\n",
       "      <td>149</td>\n",
       "    </tr>\n",
       "    <tr>\n",
       "      <th>1</th>\n",
       "      <td>40.75362</td>\n",
       "      <td>-73.98377</td>\n",
       "      <td>225</td>\n",
       "    </tr>\n",
       "    <tr>\n",
       "      <th>2</th>\n",
       "      <td>40.80902</td>\n",
       "      <td>-73.94190</td>\n",
       "      <td>150</td>\n",
       "    </tr>\n",
       "    <tr>\n",
       "      <th>3</th>\n",
       "      <td>40.68514</td>\n",
       "      <td>-73.95976</td>\n",
       "      <td>89</td>\n",
       "    </tr>\n",
       "    <tr>\n",
       "      <th>4</th>\n",
       "      <td>40.79851</td>\n",
       "      <td>-73.94399</td>\n",
       "      <td>80</td>\n",
       "    </tr>\n",
       "    <tr>\n",
       "      <th>...</th>\n",
       "      <td>...</td>\n",
       "      <td>...</td>\n",
       "      <td>...</td>\n",
       "    </tr>\n",
       "    <tr>\n",
       "      <th>48890</th>\n",
       "      <td>40.67853</td>\n",
       "      <td>-73.94995</td>\n",
       "      <td>70</td>\n",
       "    </tr>\n",
       "    <tr>\n",
       "      <th>48891</th>\n",
       "      <td>40.70184</td>\n",
       "      <td>-73.93317</td>\n",
       "      <td>40</td>\n",
       "    </tr>\n",
       "    <tr>\n",
       "      <th>48892</th>\n",
       "      <td>40.81475</td>\n",
       "      <td>-73.94867</td>\n",
       "      <td>115</td>\n",
       "    </tr>\n",
       "    <tr>\n",
       "      <th>48893</th>\n",
       "      <td>40.75751</td>\n",
       "      <td>-73.99112</td>\n",
       "      <td>55</td>\n",
       "    </tr>\n",
       "    <tr>\n",
       "      <th>48894</th>\n",
       "      <td>40.76404</td>\n",
       "      <td>-73.98933</td>\n",
       "      <td>90</td>\n",
       "    </tr>\n",
       "  </tbody>\n",
       "</table>\n",
       "<p>48895 rows × 3 columns</p>\n",
       "</div>"
      ],
      "text/plain": [
       "       latitude  longitude  price\n",
       "0      40.64749  -73.97237    149\n",
       "1      40.75362  -73.98377    225\n",
       "2      40.80902  -73.94190    150\n",
       "3      40.68514  -73.95976     89\n",
       "4      40.79851  -73.94399     80\n",
       "...         ...        ...    ...\n",
       "48890  40.67853  -73.94995     70\n",
       "48891  40.70184  -73.93317     40\n",
       "48892  40.81475  -73.94867    115\n",
       "48893  40.75751  -73.99112     55\n",
       "48894  40.76404  -73.98933     90\n",
       "\n",
       "[48895 rows x 3 columns]"
      ]
     },
     "execution_count": 184,
     "metadata": {},
     "output_type": "execute_result"
    }
   ],
   "source": [
    "#Reading into CSV file and adding all coord data into a list.\n",
    "#Seperated each component into its own variable to be called upon seperately later on.\n",
    "data = 'NYC_2019.csv'\n",
    "data_df = pd.read_csv(data)\n",
    "data_df.head()\n",
    "latlng = data_df[['latitude', 'longitude']]\n",
    "latlng_list = latlng.values.tolist()\n",
    "airbnb_data = data_df[['latitude','longitude','price']]\n",
    "#Display first modified dataframe which contains all airbnb data\n",
    "airbnb_data"
   ]
  },
  {
   "cell_type": "code",
   "execution_count": 185,
   "id": "74361ab8-fecb-424f-ae3c-23c998e6fe12",
   "metadata": {
    "tags": []
   },
   "outputs": [
    {
     "data": {
      "text/html": [
       "<div>\n",
       "<style scoped>\n",
       "    .dataframe tbody tr th:only-of-type {\n",
       "        vertical-align: middle;\n",
       "    }\n",
       "\n",
       "    .dataframe tbody tr th {\n",
       "        vertical-align: top;\n",
       "    }\n",
       "\n",
       "    .dataframe thead th {\n",
       "        text-align: right;\n",
       "    }\n",
       "</style>\n",
       "<table border=\"1\" class=\"dataframe\">\n",
       "  <thead>\n",
       "    <tr style=\"text-align: right;\">\n",
       "      <th></th>\n",
       "      <th>latitude</th>\n",
       "      <th>longitude</th>\n",
       "      <th>price</th>\n",
       "    </tr>\n",
       "  </thead>\n",
       "  <tbody>\n",
       "    <tr>\n",
       "      <th>41829</th>\n",
       "      <td>40.63285</td>\n",
       "      <td>-74.07780</td>\n",
       "      <td>125</td>\n",
       "    </tr>\n",
       "    <tr>\n",
       "      <th>38018</th>\n",
       "      <td>40.77487</td>\n",
       "      <td>-73.95654</td>\n",
       "      <td>123</td>\n",
       "    </tr>\n",
       "    <tr>\n",
       "      <th>19182</th>\n",
       "      <td>40.90175</td>\n",
       "      <td>-73.89761</td>\n",
       "      <td>77</td>\n",
       "    </tr>\n",
       "    <tr>\n",
       "      <th>29466</th>\n",
       "      <td>40.69859</td>\n",
       "      <td>-73.93534</td>\n",
       "      <td>85</td>\n",
       "    </tr>\n",
       "    <tr>\n",
       "      <th>23840</th>\n",
       "      <td>40.69954</td>\n",
       "      <td>-73.93761</td>\n",
       "      <td>199</td>\n",
       "    </tr>\n",
       "  </tbody>\n",
       "</table>\n",
       "</div>"
      ],
      "text/plain": [
       "       latitude  longitude  price\n",
       "41829  40.63285  -74.07780    125\n",
       "38018  40.77487  -73.95654    123\n",
       "19182  40.90175  -73.89761     77\n",
       "29466  40.69859  -73.93534     85\n",
       "23840  40.69954  -73.93761    199"
      ]
     },
     "execution_count": 185,
     "metadata": {},
     "output_type": "execute_result"
    }
   ],
   "source": [
    "#Set url used to place requests to the Google Maps Api.\n",
    "places_url = f'https://maps.googleapis.com/maps/api/place/nearbysearch/json?&key={gkey}'\n",
    "\n",
    "#Takes a sample amount of airbnb data and stores it into its own variable(sample_listings).\n",
    "#Specifies that we only want our sample to have 45 total values to manipulate and plot\n",
    "sample_listings = airbnb_data.sample(n=45)\n",
    "sample_listings.head()"
   ]
  },
  {
   "cell_type": "code",
   "execution_count": 186,
   "id": "14aa863a-4dcf-45b8-910b-ac70020b1263",
   "metadata": {},
   "outputs": [],
   "source": [
    "#Forming empty list to store the mean of the rating and price level \n",
    "avg_rating = []\n",
    "avg_price_level = []\n",
    "\n",
    "#Creating a for loop that takes the coordinates from the list created earlier and creates the query url to save the values returned...\n",
    "for x in range(len(sample_coords)):\n",
    "    \n",
    "#Sets the parameters for Google Api to specify which information to use when looking for values to return.\n",
    "    params = {\n",
    "        \"location\": sample_coords[x],\n",
    "        \"radius\": 2500,\n",
    "        \"keyword\": \"food\",\n",
    "    }\n",
    "#Variable set equal to the request we use to gather information, and uses the json() function to convert.\n",
    "    local_content = requests.get(places_url, params=params).json()\n",
    "    local_content\n",
    "    \n",
    "#Here we specify we want only the first 20 establishments surrounding each airbnb data request.\n",
    "#Returns the json data into a dataframe that includes columns listing the rating, price_levels, and name of each establishment\n",
    "    json_data = json_normalize(local_content['results'][0:20])\n",
    "    df_one = pd.DataFrame(json_data, columns= ['rating', 'price_level', 'name'])\n",
    "    \n",
    "#Saves the mean of the price levels and ratings in the lists created earlier. \n",
    "    avg_price_level.append(df_one['price_level'].mean())\n",
    "    avg_rating.append(df_one['rating'].mean())\n",
    "    \n",
    "#Sets parameters to only display rows with price levels > or equal to 1 or more and prints it out in the dataframe!\n",
    "    df_one = df_one.loc[df_one[\"price_level\"]>=1]\n",
    "    df_one['Corresponding Airbnb Coords'] = params['location']\n",
    "    \n",
    "#Using the to_csv function to create seperate csv files to later conjoin to read the data easily\n",
    "    df_one.to_csv('data5.csv', index=False) #Here I manually entered different names for the csv files so each csv saves the data from previous requests from the Google Api."
   ]
  },
  {
   "cell_type": "code",
   "execution_count": 187,
   "id": "ebbd48ae-f977-446e-ba01-98d99747fbb2",
   "metadata": {},
   "outputs": [
    {
     "data": {
      "text/html": [
       "<div>\n",
       "<style scoped>\n",
       "    .dataframe tbody tr th:only-of-type {\n",
       "        vertical-align: middle;\n",
       "    }\n",
       "\n",
       "    .dataframe tbody tr th {\n",
       "        vertical-align: top;\n",
       "    }\n",
       "\n",
       "    .dataframe thead th {\n",
       "        text-align: right;\n",
       "    }\n",
       "</style>\n",
       "<table border=\"1\" class=\"dataframe\">\n",
       "  <thead>\n",
       "    <tr style=\"text-align: right;\">\n",
       "      <th></th>\n",
       "      <th>rating</th>\n",
       "      <th>price_level</th>\n",
       "      <th>name</th>\n",
       "      <th>Corresponding Airbnb Coords</th>\n",
       "    </tr>\n",
       "  </thead>\n",
       "  <tbody>\n",
       "    <tr>\n",
       "      <th>0</th>\n",
       "      <td>4.7</td>\n",
       "      <td>2.0</td>\n",
       "      <td>BKLYN Blend</td>\n",
       "      <td>40.68227, -73.93305</td>\n",
       "    </tr>\n",
       "    <tr>\n",
       "      <th>1</th>\n",
       "      <td>4.1</td>\n",
       "      <td>2.0</td>\n",
       "      <td>Xcellent Soul Food</td>\n",
       "      <td>40.68227, -73.93305</td>\n",
       "    </tr>\n",
       "    <tr>\n",
       "      <th>2</th>\n",
       "      <td>3.8</td>\n",
       "      <td>2.0</td>\n",
       "      <td>Soulful Foods</td>\n",
       "      <td>40.68227, -73.93305</td>\n",
       "    </tr>\n",
       "    <tr>\n",
       "      <th>3</th>\n",
       "      <td>4.3</td>\n",
       "      <td>2.0</td>\n",
       "      <td>Napoleon’s</td>\n",
       "      <td>40.68227, -73.93305</td>\n",
       "    </tr>\n",
       "    <tr>\n",
       "      <th>4</th>\n",
       "      <td>4.1</td>\n",
       "      <td>2.0</td>\n",
       "      <td>Soulfood Caterers</td>\n",
       "      <td>40.68227, -73.93305</td>\n",
       "    </tr>\n",
       "  </tbody>\n",
       "</table>\n",
       "</div>"
      ],
      "text/plain": [
       "   rating  price_level                name Corresponding Airbnb Coords\n",
       "0     4.7          2.0         BKLYN Blend         40.68227, -73.93305\n",
       "1     4.1          2.0  Xcellent Soul Food         40.68227, -73.93305\n",
       "2     3.8          2.0       Soulful Foods         40.68227, -73.93305\n",
       "3     4.3          2.0          Napoleon’s         40.68227, -73.93305\n",
       "4     4.1          2.0   Soulfood Caterers         40.68227, -73.93305"
      ]
     },
     "execution_count": 187,
     "metadata": {},
     "output_type": "execute_result"
    }
   ],
   "source": [
    "#Takes the csv data from the seperate files and stitches them together\n",
    "coord_pricing_df = pd.concat(\n",
    "    map(pd.read_csv, ['data1.csv', 'data2.csv', 'data3.csv', 'data4.csv', 'data5.csv']), ignore_index=True)\n",
    "\n",
    "#Display dataframe to analyze ratings and price levels\n",
    "#This isn't the final dataset used to plot...this just allows us to see if the format is consistant and isn't returning any errors. \n",
    "coord_pricing_df.head()"
   ]
  },
  {
   "cell_type": "code",
   "execution_count": 218,
   "id": "f8daf031-a8f4-4d7b-957a-04fbbc7a957a",
   "metadata": {},
   "outputs": [
    {
     "name": "stdout",
     "output_type": "stream",
     "text": [
      "Correlation coefficient = 0.15\n"
     ]
    },
    {
     "data": {
      "image/png": "[encoded data removed]",
      "text/plain": [
       "<Figure size 432x288 with 1 Axes>"
      ]
     },
     "metadata": {
      "needs_background": "light"
     },
     "output_type": "display_data"
    }
   ],
   "source": [
    "#Insert Data here that needs to be plotted:\n",
    "#The graphs show each airbnb's price when you take into consideration the first 20 nearby establishments\n",
    "x_values = sample_listings['price']\n",
    "y_values = avg_price_level\n",
    "\n",
    "#Plotting Scatter Plot\n",
    "plt.plot(x_values, y_values, 'o')\n",
    "\n",
    "#Displays correlation coefficient between the average establishment price level, and the airbnb prices...\n",
    "plt.xlim(35, 400)\n",
    "plt.ylim(0, 3)\n",
    "plt.grid(True, alpha = 0.3)\n",
    "correlation_var = st.pearsonr(sample_listings[\"price\"], avg_price_level)\n",
    "plt.tight_layout(pad=2)\n",
    "plt.xlabel('Airbnb Listing Price')\n",
    "plt.ylabel('Average Price Level')\n",
    "plt.title(\"NYC Airbnb's: Listing Price vs Average Price Level of Nearby Establishments\")\n",
    "plt.savefig(\"Graphs(Reese)/NYC_Airbnb_Listing_Price_vs_Average_Price_Level.png\")\n",
    "print(f'Correlation coefficient = {round(correlation_var[0],2)}')\n",
    "#A uphill (positive) linear relationship, but the correlation value is still low."
   ]
  },
  {
   "cell_type": "code",
   "execution_count": 219,
   "id": "cfab800e-776c-4669-9da6-426e1d5be344",
   "metadata": {},
   "outputs": [
    {
     "name": "stdout",
     "output_type": "stream",
     "text": [
      "Correlation coefficient = -0.03\n"
     ]
    },
    {
     "data": {
      "image/png": "[encoded data removed]",
      "text/plain": [
       "<Figure size 432x288 with 1 Axes>"
      ]
     },
     "metadata": {
      "needs_background": "light"
     },
     "output_type": "display_data"
    }
   ],
   "source": [
    "#Insert Data here that needs to be plotted:\n",
    "x_values3 = sample_listings['price']\n",
    "y_values3 = avg_rating\n",
    "\n",
    "#Displays correlation coefficient between the average establishment ratings, and the airbnb prices...\n",
    "plt.plot(x_values3, y_values3, '^')\n",
    "plt.xlim(35, 400)\n",
    "plt.ylim(3, 4.5)\n",
    "plt.grid(True, alpha = 0.3)\n",
    "plt.tight_layout(pad=2)\n",
    "plt.xlabel('Airbnb Listing Price')\n",
    "plt.ylabel('Average Customer Rating')\n",
    "correlation_var = st.pearsonr(sample_listings[\"price\"], avg_rating)\n",
    "plt.title(\"NYC Airbnb's: Listing Price vs Customer Rating of Nearby Establishments\")\n",
    "plt.savefig(\"Graphs(Reese)/NYC_Airbnb_Listing_Price_vs_Customer_Rating.png\")\n",
    "print(f'Correlation coefficient = {round(correlation_var[0],2)}')\n",
    "#There is no significant correlation value, but instead it shows a weak downhill (negative) linear relationship."
   ]
  }
 ],
 "metadata": {
  "kernelspec": {
   "display_name": "Python 3",
   "language": "python",
   "name": "python3"
  },
  "language_info": {
   "codemirror_mode": {
    "name": "ipython",
    "version": 3
   },
   "file_extension": ".py",
   "mimetype": "text/x-python",
   "name": "python",
   "nbconvert_exporter": "python",
   "pygments_lexer": "ipython3",
   "version": "3.8.8"
  }
 },
 "nbformat": 4,
 "nbformat_minor": 5
}
