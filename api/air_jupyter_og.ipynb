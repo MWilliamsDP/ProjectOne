{
 "cells": [
  {
   "cell_type": "code",
   "execution_count": 51,
   "id": "c5664f6f-185b-46ef-9c96-2775d403fa59",
   "metadata": {},
   "outputs": [],
   "source": [
    "import requests\n",
    "import json"
   ]
  },
  {
   "cell_type": "code",
   "execution_count": 52,
   "id": "ba7fa828-f8e6-4eb8-bc4c-608aacba2571",
   "metadata": {},
   "outputs": [],
   "source": [
    "url = \"http://api.airvisual.com/v2/city?city=Philadelphia&state=Pennsylvania&country=USA&key=fc0398b0-6413-4f20-8d1c-b7f8b337305a\""
   ]
  },
  {
   "cell_type": "code",
   "execution_count": 53,
   "id": "40383504-98f8-4d56-b20f-86859fa9748a",
   "metadata": {},
   "outputs": [
    {
     "name": "stdout",
     "output_type": "stream",
     "text": [
      "<Response [200]>\n"
     ]
    }
   ],
   "source": [
    "print(requests.get(url))"
   ]
  },
  {
   "cell_type": "code",
   "execution_count": 54,
   "id": "89626fe9-94c7-448f-9ad2-334e9262b054",
   "metadata": {},
   "outputs": [
    {
     "name": "stdout",
     "output_type": "stream",
     "text": [
      "<bound method Response.json of <Response [200]>>\n"
     ]
    }
   ],
   "source": [
    "print(requests.get(url).json)"
   ]
  },
  {
   "cell_type": "code",
   "execution_count": 57,
   "id": "80d3b8bb-8eba-471d-a952-7f214127b2fd",
   "metadata": {},
   "outputs": [
    {
     "name": "stdout",
     "output_type": "stream",
     "text": [
      "{\n",
      "    \"data\": {\n",
      "        \"city\": \"Philadelphia\",\n",
      "        \"country\": \"USA\",\n",
      "        \"current\": {\n",
      "            \"pollution\": {\n",
      "                \"aqicn\": 19,\n",
      "                \"aqius\": 53,\n",
      "                \"maincn\": \"p2\",\n",
      "                \"mainus\": \"p2\",\n",
      "                \"ts\": \"2021-07-23T00:00:00.000Z\"\n",
      "            },\n",
      "            \"weather\": {\n",
      "                \"hu\": 50,\n",
      "                \"ic\": \"02d\",\n",
      "                \"pr\": 1019,\n",
      "                \"tp\": 25,\n",
      "                \"ts\": \"2021-07-22T23:00:00.000Z\",\n",
      "                \"wd\": 281,\n",
      "                \"ws\": 0.45\n",
      "            }\n",
      "        },\n",
      "        \"location\": {\n",
      "            \"coordinates\": [\n",
      "                -75.080833,\n",
      "                39.991389\n",
      "            ],\n",
      "            \"type\": \"Point\"\n",
      "        },\n",
      "        \"state\": \"Pennsylvania\"\n",
      "    },\n",
      "    \"status\": \"success\"\n",
      "}\n"
     ]
    }
   ],
   "source": [
    "response = requests.get(url).json()\n",
    "print(json.dumps(response, indent=4, sort_keys=True))"
   ]
  },
  {
   "cell_type": "code",
   "execution_count": null,
   "id": "653fa8d3-400d-47a5-b873-e15a96a569c0",
   "metadata": {},
   "outputs": [],
   "source": []
  }
 ],
 "metadata": {
  "kernelspec": {
   "display_name": "Python 3",
   "language": "python",
   "name": "python3"
  },
  "language_info": {
   "codemirror_mode": {
    "name": "ipython",
    "version": 3
   },
   "file_extension": ".py",
   "mimetype": "text/x-python",
   "name": "python",
   "nbconvert_exporter": "python",
   "pygments_lexer": "ipython3",
   "version": "3.7.10"
  }
 },
 "nbformat": 4,
 "nbformat_minor": 5
}
