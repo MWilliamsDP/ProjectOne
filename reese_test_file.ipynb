{
 "cells": [
  {
   "cell_type": "code",
   "execution_count": 11,
   "id": "fe6258aa-046a-49b4-b51b-da6b8c749ee8",
   "metadata": {},
   "outputs": [],
   "source": [
    "import json\n",
    "import requests\n",
    "import pandas as pd\n",
    "from pprint import pprint \n",
    "from config import gkey\n",
    "from pandas import json_normalize\n",
    "import random"
   ]
  },
  {
   "cell_type": "code",
   "execution_count": 22,
   "id": "9a56050a-c58c-4af3-b6fa-0b9d9d9abc4d",
   "metadata": {
    "tags": []
   },
   "outputs": [],
   "source": [
    "#Reading into CSV file and adding all coord data into a list\n",
    "data = 'NYC_2019.csv'\n",
    "data_df = pd.read_csv(data)\n",
    "data_df.head()\n",
    "latlng = data_df[['latitude', 'longitude']]\n",
    "latlng_list = latlng.values.tolist()\n"
   ]
  },
  {
   "cell_type": "code",
   "execution_count": 5,
   "id": "74361ab8-fecb-424f-ae3c-23c998e6fe12",
   "metadata": {
    "tags": []
   },
   "outputs": [
    {
     "data": {
      "text/plain": [
       "'105 E 8th St, Brooklyn, NY 11218, USA'"
      ]
     },
     "execution_count": 5,
     "metadata": {},
     "output_type": "execute_result"
    }
   ],
   "source": [
    "# base url\n",
    "base_url = f\"https://maps.googleapis.com/maps/api/geocode/json?latlng=40.64749,-73.97237&key={gkey}\"\n",
    "\n",
    "# run a request \n",
    "response = requests.get(base_url).json()\n",
    "response['results'][1]['formatted_address']"
   ]
  },
  {
   "cell_type": "code",
   "execution_count": 58,
   "id": "d1ea98d0-1cd3-4279-b1d4-7e2d652f4f29",
   "metadata": {
    "tags": []
   },
   "outputs": [
    {
     "name": "stdout",
     "output_type": "stream",
     "text": [
      "40.79826, -73.9611\n"
     ]
    }
   ],
   "source": [
    "#\n",
    "place = []\n",
    "for x in latlng_list[1:20]:\n",
    "    place.append(x)\n",
    "    \n",
    "#print(place)\n",
    "random_place = random.sample(place, k=19)\n",
    "#print(random_place)\n",
    "place_str = ' '.join([str(elem) for elem in random_place])\n",
    "local_dest = place_str[1:19]\n",
    "print(local_dest)\n"
   ]
  },
  {
   "cell_type": "code",
   "execution_count": null,
   "id": "60d2a041-01fa-49d1-9a57-1553aff4c251",
   "metadata": {
    "tags": []
   },
   "outputs": [],
   "source": []
  },
  {
   "cell_type": "code",
   "execution_count": 57,
   "id": "14aa863a-4dcf-45b8-910b-ac70020b1263",
   "metadata": {},
   "outputs": [],
   "source": [
    "places_url = f'https://maps.googleapis.com/maps/api/place/nearbysearch/json?&key={gkey}'\n",
    "params = {\n",
    "    \"location\": local_dest,\n",
    "    \"radius\": 2000,\n",
    "    \"keyword\": \"food\"\n",
    "}\n",
    "\n",
    "\n",
    "#Finds 10 nearest points of interest to the local destination provided at random\n",
    "for p in place:\n",
    "    \n",
    "    nearby_content = requests.get(places_url, params=params).json()\n",
    "    nearby_names_df = json_normalize(nearby_content['results'][0:10])\n",
    "\n",
    "    nearby_names_df['Nearest Airbnb Location: '] = local_dest\n",
    "    nearby_names_df = nearby_names_df.loc[nearby_names_df[\"price_level\"]>=2]\n",
    "    nearby_names_df\n",
    "    nearby_names_df.to_csv(r'data/business_names.csv', index = False)\n",
    "    \n",
    "    "
   ]
  },
  {
   "cell_type": "code",
   "execution_count": null,
   "id": "f63e6d00-5154-4939-bd84-75f41e61ef3f",
   "metadata": {},
   "outputs": [],
   "source": []
  }
 ],
 "metadata": {
  "kernelspec": {
   "display_name": "Python 3",
   "language": "python",
   "name": "python3"
  },
  "language_info": {
   "codemirror_mode": {
    "name": "ipython",
    "version": 3
   },
   "file_extension": ".py",
   "mimetype": "text/x-python",
   "name": "python",
   "nbconvert_exporter": "python",
   "pygments_lexer": "ipython3",
   "version": "3.8.8"
  }
 },
 "nbformat": 4,
 "nbformat_minor": 5
}
